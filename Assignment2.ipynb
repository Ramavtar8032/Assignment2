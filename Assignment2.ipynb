{
 "cells": [
  {
   "cell_type": "code",
   "execution_count": 4,
   "id": "3b60ba4c-42b4-4256-bf49-e9e82b0862de",
   "metadata": {},
   "outputs": [
    {
     "name": "stdin",
     "output_type": "stream",
     "text": [
      "Enter Your Percentage  95\n"
     ]
    },
    {
     "name": "stdout",
     "output_type": "stream",
     "text": [
      "Grade A\n"
     ]
    }
   ],
   "source": [
    "# Q1:-Ans\n",
    "\n",
    "percentage = int(input(\"Enter Your Percentage \"))\n",
    "\n",
    "if percentage > 90 :\n",
    "    print(\"Grade A\")\n",
    "elif percentage > 80 and percentage <=90 :\n",
    "    print(\"Grade B\")\n",
    "elif percentage >= 60 and percentage<=80 :\n",
    "    print(\"Grade C\")\n",
    "else :\n",
    "    print(\"Grade D\")"
   ]
  },
  {
   "cell_type": "code",
   "execution_count": 10,
   "id": "4c3efaf1-c0cf-407e-9115-4b805778b32c",
   "metadata": {},
   "outputs": [
    {
     "name": "stdin",
     "output_type": "stream",
     "text": [
      "Enter your Cost Price 500000\n"
     ]
    },
    {
     "name": "stdout",
     "output_type": "stream",
     "text": [
      "The road tax to be paid  75000.0\n"
     ]
    }
   ],
   "source": [
    "# Q2:-Ans\n",
    "\n",
    "cost_price = int(input(\"Enter your Cost Price\"))\n",
    "\n",
    "if cost_price > 100000 :\n",
    "    payable = cost_price*15/100\n",
    "    print(\"The road tax to be paid \",payable)\n",
    "elif cost_price > 50000 and cost_price <= 100000 :\n",
    "    payable = cost_price*10/100\n",
    "    print(\"The road tax to be paid \",payable)\n",
    "elif cost_price > 0 and cost_price <= 50000 :\n",
    "    payable = cost_price*5/100\n",
    "    print(\"The road tax to be paid \",payable)\n",
    "else :\n",
    "    print(\"Enter a valid cost price\")"
   ]
  },
  {
   "cell_type": "code",
   "execution_count": 17,
   "id": "d5cd3e88-f3bb-4425-9c69-0f44a4fcd9b1",
   "metadata": {},
   "outputs": [
    {
     "name": "stdin",
     "output_type": "stream",
     "text": [
      "Enter city Name Delhi,Agra,Jaipur:- Delhi\n"
     ]
    },
    {
     "name": "stdout",
     "output_type": "stream",
     "text": [
      "The Monuments Name Red Fort \n"
     ]
    }
   ],
   "source": [
    "# Q3:-Ans\n",
    "\n",
    "city_name = input(\"Enter city Name Delhi,Agra,Jaipur:-\")\n",
    "\n",
    "if city_name == \"Delhi\" :\n",
    "    print(\"The Monuments Name Red Fort \")\n",
    "elif city_name == \"Agra\" :\n",
    "    print(\"The Monuments Name Taj Mahal \")\n",
    "elif city_name == \"Jaipur\" :\n",
    "    print(\"The Monuments Name Jal Mahal \")\n",
    "else :\n",
    "    print(\"Enter valid city name\")"
   ]
  },
  {
   "cell_type": "code",
   "execution_count": 4,
   "id": "fe6a7708-95b0-45a6-b56d-87fe38708a49",
   "metadata": {},
   "outputs": [
    {
     "name": "stdin",
     "output_type": "stream",
     "text": [
      "Enter a number 15\n"
     ]
    },
    {
     "name": "stdout",
     "output_type": "stream",
     "text": [
      "number is divided by  until or unless less then or equal to 10  1\n"
     ]
    }
   ],
   "source": [
    "# Q4:-\n",
    "num=int(input(\"Enter a number\"))\n",
    "count=0;\n",
    "while not(num <= 10)  :\n",
    "    if num % 3 == 0 :\n",
    "        count+=1\n",
    "    num=num/3\n",
    "print(\"number is divided by  until or unless less then or equal to 10 \",count)   "
   ]
  },
  {
   "cell_type": "code",
   "execution_count": 5,
   "id": "dd7d1dcb-66b6-4a27-b715-6da7ec7ea323",
   "metadata": {},
   "outputs": [
    {
     "name": "stdout",
     "output_type": "stream",
     "text": [
      "1\n",
      "2\n",
      "3\n",
      "4\n",
      "5\n"
     ]
    }
   ],
   "source": [
    "# Q5:- Ans\n",
    "# Python while loop is used to run a block code until a certain condition is met.\n",
    "# Here, A while loop evaluates the condition. If the condition evaluates to True , the \n",
    "# code inside the while loop is executed.\n",
    "# OR in simple word when we don't know how many time the loop will executed that time is used to while loop.\n",
    "#EXample of while \n",
    "i = 1\n",
    "while i < 6:\n",
    "  print(i)\n",
    "  i += 1"
   ]
  },
  {
   "cell_type": "code",
   "execution_count": 7,
   "id": "5032d05b-02b9-49d5-8cd5-dfb0215b0205",
   "metadata": {},
   "outputs": [
    {
     "name": "stdout",
     "output_type": "stream",
     "text": [
      "First Pattern printing\n",
      "1 \n",
      "1 2 \n",
      "1 2 3 \n",
      "1 2 3 4 \n",
      "1 2 3 4 5 \n",
      "Second Pattern printing\n",
      "0 1 2 3 \n",
      "0 2 4 6 \n",
      "0 3 6 9 \n",
      "0 4 8 12 \n",
      "Third Pattern printing\n",
      "1 1 1 1 1 \n",
      "2 2 2 2 \n",
      "3 3 3 \n",
      "4 4 \n",
      "5 \n"
     ]
    }
   ],
   "source": [
    "#Q6:- Ans\n",
    "print(\"First Pattern printing\")\n",
    "i=1\n",
    "while i<=5:\n",
    "    j=1\n",
    "    while j<=i:\n",
    "        print(j,end=\" \")\n",
    "        j=j+1\n",
    "    print(\"\")\n",
    "    i=i+1\n",
    "print(\"Second Pattern printing\" )  \n",
    "i = 1\n",
    "while i <= 4 :\n",
    "    j = 0\n",
    "    while  j <= 3 :\n",
    "        print(i*j, end=\" \")\n",
    "        j += 1\n",
    "    print()\n",
    "    i += 1\n",
    "print(\"Third Pattern printing\")\n",
    "rows = 5\n",
    "b = 0\n",
    "for i in range(rows, 0, -1):\n",
    "    b += 1\n",
    "    for j in range(1, i + 1):\n",
    "        print(b, end=' ')\n",
    "    print('\\r')"
   ]
  },
  {
   "cell_type": "code",
   "execution_count": 8,
   "id": "b642825d-4a4b-4f86-a194-0bcc3cd24689",
   "metadata": {},
   "outputs": [
    {
     "name": "stdout",
     "output_type": "stream",
     "text": [
      "Printing Number from 10 to 1 in Reverse order\n",
      "10\n",
      "9\n",
      "8\n",
      "7\n",
      "6\n",
      "5\n",
      "4\n",
      "3\n",
      "2\n",
      "1\n"
     ]
    }
   ],
   "source": [
    "#Q7:- Ans\n",
    "num=10\n",
    "print(\"Printing Number from 10 to 1 in Reverse order\")\n",
    "while num > 0:\n",
    "    print(num)\n",
    "    num=num-1\n",
    "    "
   ]
  },
  {
   "cell_type": "code",
   "execution_count": 9,
   "id": "3c9b1229-54e7-48d5-b414-4111c19bd7fa",
   "metadata": {},
   "outputs": [
    {
     "name": "stdout",
     "output_type": "stream",
     "text": [
      "Printing Number from 10 to 1 in Reverse order\n",
      "10\n",
      "9\n",
      "8\n",
      "7\n",
      "6\n",
      "5\n",
      "4\n",
      "3\n",
      "2\n",
      "1\n"
     ]
    }
   ],
   "source": [
    "#Q8:- Ans\n",
    "num=10\n",
    "print(\"Printing Number from 10 to 1 in Reverse order\")\n",
    "while num > 0:\n",
    "    print(num)\n",
    "    num=num-1\n",
    "    "
   ]
  },
  {
   "cell_type": "code",
   "execution_count": null,
   "id": "1a97e6cd-e401-4d32-88f6-18dfeba19efc",
   "metadata": {},
   "outputs": [],
   "source": []
  }
 ],
 "metadata": {
  "kernelspec": {
   "display_name": "Python 3 (ipykernel)",
   "language": "python",
   "name": "python3"
  },
  "language_info": {
   "codemirror_mode": {
    "name": "ipython",
    "version": 3
   },
   "file_extension": ".py",
   "mimetype": "text/x-python",
   "name": "python",
   "nbconvert_exporter": "python",
   "pygments_lexer": "ipython3",
   "version": "3.10.8"
  }
 },
 "nbformat": 4,
 "nbformat_minor": 5
}
